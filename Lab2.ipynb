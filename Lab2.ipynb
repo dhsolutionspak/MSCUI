{
  "cells": [
    {
      "cell_type": "markdown",
      "metadata": {
        "id": "view-in-github",
        "colab_type": "text"
      },
      "source": [
        "<a href=\"https://colab.research.google.com/github/Qaiserfarooq285/Labtasks/blob/main/Lab2.ipynb\" target=\"_parent\"><img src=\"https://colab.research.google.com/assets/colab-badge.svg\" alt=\"Open In Colab\"/></a>"
      ]
    },
    {
      "cell_type": "code",
      "execution_count": null,
      "metadata": {
        "colab": {
          "background_save": true,
          "base_uri": "https://localhost:8080/"
        },
        "id": "FAzjBtfpKntY",
        "outputId": "da19a206-4162-4d35-b723-e07704c31553"
      },
      "outputs": [
        {
          "output_type": "stream",
          "name": "stdout",
          "text": [
            "Student Record System\n",
            "Enter student ID (or type 'stop' to finish): 1\n",
            "Enter student name: qauser\n",
            "Enter student residential city: bannu\n",
            "Enter student ID (or type 'stop' to finish): stop\n",
            "Enter student ID to query (or type 'exit' to quit): 1\n",
            "Name: qauser, City: bannu\n"
          ]
        }
      ],
      "source": [
        "# Function to collect student information\n",
        "def collect_student_info():\n",
        "    student_ids = []\n",
        "    names = []\n",
        "    cities = []\n",
        "\n",
        "    while True:\n",
        "        student_id = input(\"Enter student ID (or type 'stop' to finish): \")\n",
        "        if student_id.lower() == 'stop':\n",
        "            break\n",
        "        name = input(\"Enter student name: \")\n",
        "        city = input(\"Enter student residential city: \")\n",
        "\n",
        "        student_ids.append(student_id)\n",
        "        names.append(name)\n",
        "        cities.append(city)\n",
        "\n",
        "    return student_ids, names, cities\n",
        "\n",
        "# Function to create the dictionary from lists\n",
        "def create_student_dict(student_ids, names, cities):\n",
        "    student_dict = {}\n",
        "    for i in range(len(student_ids)):\n",
        "        student_dict[student_ids[i]] = [names[i], cities[i]]\n",
        "    return student_dict\n",
        "\n",
        "# Function to query the student dictionary\n",
        "def query_student(student_dict):\n",
        "    while True:\n",
        "        query_id = input(\"Enter student ID to query (or type 'exit' to quit): \")\n",
        "        if query_id.lower() == 'exit':\n",
        "            break\n",
        "        if query_id in student_dict:\n",
        "            name, city = student_dict[query_id]\n",
        "            print(f\"Name: {name}, City: {city}\")\n",
        "        else:\n",
        "            print(\"Student ID not found.\")\n",
        "\n",
        "# Main function to run the script\n",
        "def main():\n",
        "    print(\"Student Record System\")\n",
        "\n",
        "    # Collect student information\n",
        "    student_ids, names, cities = collect_student_info()\n",
        "\n",
        "    # Create dictionary from collected information\n",
        "    student_dict = create_student_dict(student_ids, names, cities)\n",
        "\n",
        "    # Query the student dictionary\n",
        "    query_student(student_dict)\n",
        "\n",
        "if __name__ == \"__main__\":\n",
        "    main()\n"
      ]
    }
  ],
  "metadata": {
    "colab": {
      "provenance": [],
      "authorship_tag": "ABX9TyPQpavGjHofyX3aSXM6VVUL",
      "include_colab_link": true
    },
    "kernelspec": {
      "display_name": "Python 3",
      "name": "python3"
    },
    "language_info": {
      "name": "python"
    }
  },
  "nbformat": 4,
  "nbformat_minor": 0
}